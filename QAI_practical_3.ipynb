{
 "cells": [
  {
   "cell_type": "markdown",
   "id": "2bbd3bc9",
   "metadata": {},
   "source": [
    "5 Qubit Quantum Fourier Transform"
   ]
  },
  {
   "cell_type": "code",
   "execution_count": 1,
   "id": "7a2a97ac",
   "metadata": {},
   "outputs": [],
   "source": [
    " from qiskit import QuantumRegister, ClassicalRegister\n",
    "from qiskit import QuantumCircuit, execute,IBMQ, execute\n",
    "from qiskit.tools.monitor import job_monitor\n",
    "from qiskit import Aer\n",
    "from qiskit.tools.jupyter.library import _generate_circuit_library_visualization\n",
    "from qiskit.circuit.library import QFT\n",
    "import numpy as np"
   ]
  },
  {
   "cell_type": "code",
   "execution_count": 2,
   "id": "d37971cf",
   "metadata": {},
   "outputs": [],
   "source": [
    "pi = np.pi\n",
    "backend = Aer.get_backend('statevector_simulator')\n",
    "q = QuantumRegister(5,'q')\n",
    "c = ClassicalRegister(5,'c')\n",
    "circuit = QuantumCircuit(q,c)"
   ]
  },
  {
   "cell_type": "code",
   "execution_count": 3,
   "id": "6047c327",
   "metadata": {},
   "outputs": [
    {
     "data": {
      "text/plain": [
       "<qiskit.circuit.instructionset.InstructionSet at 0x1e48196f670>"
      ]
     },
     "execution_count": 3,
     "metadata": {},
     "output_type": "execute_result"
    }
   ],
   "source": [
    "circuit.x(q[4])\n",
    "circuit.x(q[2])\n",
    "circuit.x(q[0])"
   ]
  },
  {
   "cell_type": "code",
   "execution_count": 4,
   "id": "50b44a73",
   "metadata": {},
   "outputs": [],
   "source": [
    "qft_circuit = QFT(num_qubits=5, approximation_degree=0, do_swaps=True,inverse=False,insert_barriers=False, name=\"qft\")\n"
   ]
  },
  {
   "cell_type": "code",
   "execution_count": 7,
   "id": "d9bfa234",
   "metadata": {},
   "outputs": [
    {
     "name": "stderr",
     "output_type": "stream",
     "text": [
      "C:\\Users\\Prathamesh Patil\\AppData\\Local\\Temp\\ipykernel_12856\\3808608000.py:3: UserWarning: Matplotlib is currently using module://matplotlib_inline.backend_inline, which is a non-GUI backend, so cannot show the figure.\n",
      "  circuit.draw(output=\"mpl\", filename=\"qft1.png\").show()\n"
     ]
    }
   ],
   "source": [
    "circuit = circuit.compose(qft_circuit)\n",
    "circuit.measure(q,c)\n",
    "circuit.draw(output=\"mpl\", filename=\"qft1.png\").show()"
   ]
  },
  {
   "cell_type": "code",
   "execution_count": 8,
   "id": "e31ef25d",
   "metadata": {},
   "outputs": [
    {
     "name": "stdout",
     "output_type": "stream",
     "text": [
      "     ┌───┐┌──────┐┌─┐            ┌──────┐┌─┐            \n",
      "q_0: ┤ X ├┤0     ├┤M├────────────┤0     ├┤M├────────────\n",
      "     └───┘│      │└╥┘┌─┐         │      │└╥┘┌─┐         \n",
      "q_1: ─────┤1     ├─╫─┤M├─────────┤1     ├─╫─┤M├─────────\n",
      "     ┌───┐│      │ ║ └╥┘┌─┐      │      │ ║ └╥┘┌─┐      \n",
      "q_2: ┤ X ├┤2 qft ├─╫──╫─┤M├──────┤2 qft ├─╫──╫─┤M├──────\n",
      "     └───┘│      │ ║  ║ └╥┘┌─┐   │      │ ║  ║ └╥┘┌─┐   \n",
      "q_3: ─────┤3     ├─╫──╫──╫─┤M├───┤3     ├─╫──╫──╫─┤M├───\n",
      "     ┌───┐│      │ ║  ║  ║ └╥┘┌─┐│      │ ║  ║  ║ └╥┘┌─┐\n",
      "q_4: ┤ X ├┤4     ├─╫──╫──╫──╫─┤M├┤4     ├─╫──╫──╫──╫─┤M├\n",
      "     └───┘└──────┘ ║  ║  ║  ║ └╥┘└──────┘ ║  ║  ║  ║ └╥┘\n",
      "c: 5/══════════════╩══╩══╩══╩══╩══════════╩══╩══╩══╩══╩═\n",
      "                   0  1  2  3  4          0  1  2  3  4 \n"
     ]
    }
   ],
   "source": [
    "print(circuit)\n"
   ]
  },
  {
   "cell_type": "code",
   "execution_count": 9,
   "id": "53e899c8",
   "metadata": {},
   "outputs": [
    {
     "name": "stdout",
     "output_type": "stream",
     "text": [
      "Job Status: job has successfully run\n",
      "\n",
      " QFT Output\n",
      "-------------\n",
      "{'01001': 32, '01010': 28, '10011': 39, '01011': 26, '01101': 24, '11110': 33, '01111': 30, '10110': 33, '00001': 36, '11111': 24, '11001': 35, '00010': 35, '00110': 26, '11100': 28, '00011': 33, '11000': 33, '11011': 33, '10100': 35, '11101': 21, '10001': 24, '01000': 42, '01110': 28, '00101': 42, '10010': 35, '10000': 24, '10101': 23, '11010': 32, '00000': 37, '00100': 34, '01100': 30, '00111': 30, '10111': 35}\n"
     ]
    }
   ],
   "source": [
    "job = execute(circuit, backend, shots=1000)\n",
    "job_monitor(job)\n",
    "counts = job.result().get_counts()\n",
    "print(\"\\n QFT Output\")\n",
    "print(\"-------------\")\n",
    "print(counts)"
   ]
  }
 ],
 "metadata": {
  "kernelspec": {
   "display_name": "Python 3 (ipykernel)",
   "language": "python",
   "name": "python3"
  },
  "language_info": {
   "codemirror_mode": {
    "name": "ipython",
    "version": 3
   },
   "file_extension": ".py",
   "mimetype": "text/x-python",
   "name": "python",
   "nbconvert_exporter": "python",
   "pygments_lexer": "ipython3",
   "version": "3.11.3"
  }
 },
 "nbformat": 4,
 "nbformat_minor": 5
}
